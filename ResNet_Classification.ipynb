{
  "nbformat": 4,
  "nbformat_minor": 0,
  "metadata": {
    "colab": {
      "provenance": [],
      "gpuType": "T4",
      "include_colab_link": true
    },
    "kernelspec": {
      "name": "python3",
      "display_name": "Python 3"
    },
    "language_info": {
      "name": "python"
    },
    "accelerator": "GPU"
  },
  "cells": [
    {
      "cell_type": "markdown",
      "metadata": {
        "id": "view-in-github",
        "colab_type": "text"
      },
      "source": [
        "<a href=\"https://colab.research.google.com/github/lIlIlIIIlIIl/Toy_Project/blob/main/ResNet_Classification.ipynb\" target=\"_parent\"><img src=\"https://colab.research.google.com/assets/colab-badge.svg\" alt=\"Open In Colab\"/></a>"
      ]
    },
    {
      "cell_type": "markdown",
      "source": [
        "#Import"
      ],
      "metadata": {
        "id": "9zXfH0iZf_Ja"
      }
    },
    {
      "cell_type": "code",
      "source": [
        "import torch\n",
        "import torchvision\n",
        "import torchvision.transforms as transforms\n",
        "import torch.nn as nn\n",
        "import torch.nn.functional as F\n",
        "import torch.optim as optim\n",
        "from torchvision import datasets\n",
        "from torch.utils.data import DataLoader\n",
        "import argparse\n",
        "import numpy as np\n",
        "import time\n",
        "from copy import deepcopy # Add Deepcopy for args\n",
        "import seaborn as sns\n",
        "import matplotlib.pyplot as plt"
      ],
      "metadata": {
        "id": "1Z8mVLhGf-nv"
      },
      "execution_count": 1,
      "outputs": []
    },
    {
      "cell_type": "markdown",
      "source": [
        "#Dataset"
      ],
      "metadata": {
        "id": "hHp2-zW5f3b-"
      }
    },
    {
      "cell_type": "code",
      "execution_count": 2,
      "metadata": {
        "id": "pzhfXo3Nfl10",
        "outputId": "5dbc0733-94a9-4b54-dd55-d4dd6bb55d4b",
        "colab": {
          "base_uri": "https://localhost:8080/"
        }
      },
      "outputs": [
        {
          "output_type": "stream",
          "name": "stdout",
          "text": [
            "Dataset URL: https://www.kaggle.com/datasets/gpiosenka/sports-classification\n",
            "License(s): CC0-1.0\n",
            "Downloading sports-classification.zip to /content\n",
            "100% 423M/424M [00:21<00:00, 16.3MB/s]\n",
            "100% 424M/424M [00:21<00:00, 20.4MB/s]\n"
          ]
        }
      ],
      "source": [
        "import zipfile\n",
        "\n",
        "!mkdir results\n",
        "!kaggle datasets download -d gpiosenka/sports-classification\n",
        "zip_file = zipfile.ZipFile('/content/sports-classification.zip') # 압축을 해제할 '/파일경로/파일명.zip'\n",
        "zip_file.extractall('/content/sports-classification') # 압축을 해제할 '/위치경로/'"
      ]
    },
    {
      "cell_type": "code",
      "source": [
        "# ===== transform 선언 ===== #\n",
        "transform = transforms.Compose([transforms.ToTensor(),\n",
        "                                transforms.Normalize((0.5, 0.5, 0.5), (0.5, 0.5, 0.5))])\n",
        "\n",
        "\n",
        "# ===== 파일이 다운로드 된 경로 ===== #\n",
        "data_folder = \"/content/sports-classification\"\n",
        "\n",
        "train_folder = data_folder + \"/train\"\n",
        "val_folder = data_folder + \"/valid\"\n",
        "test_folder = data_folder + \"/test\"\n",
        "\n",
        "trainset = datasets.ImageFolder(root=train_folder, transform=transform)\n",
        "valset = datasets.ImageFolder(root=val_folder, transform=transform)\n",
        "testset = datasets.ImageFolder(root=test_folder, transform=transform)\n",
        "\n",
        "partition = {'train': trainset, 'val':valset, 'test':testset}\n"
      ],
      "metadata": {
        "id": "chzn5rbTgBuP"
      },
      "execution_count": 3,
      "outputs": []
    },
    {
      "cell_type": "markdown",
      "source": [
        "#ResNet"
      ],
      "metadata": {
        "id": "aJirvRFdgIpf"
      }
    },
    {
      "cell_type": "code",
      "source": [
        "resnet_weight = torchvision.models.ResNet50_Weights.DEFAULT\n",
        "\n",
        "ResNet = torchvision.models.resnet50(weights = resnet_weight)\n",
        "\n",
        "for param in ResNet.parameters():\n",
        "    param.requires_grad = False\n",
        "\n",
        "custom_fc = nn.Sequential(\n",
        "    nn.ReLU(),\n",
        "    nn.Dropout(p = 0.5),\n",
        "    nn.Linear(1000, 100))\n",
        "\n",
        "ResNet.fc = nn.Sequential(\n",
        "    ResNet.fc,\n",
        "    custom_fc\n",
        ")"
      ],
      "metadata": {
        "id": "VLt4RtHggIVJ",
        "colab": {
          "base_uri": "https://localhost:8080/"
        },
        "outputId": "26fee2ff-410b-4df7-ad19-8f079d423b5e"
      },
      "execution_count": 4,
      "outputs": [
        {
          "output_type": "stream",
          "name": "stderr",
          "text": [
            "Downloading: \"https://download.pytorch.org/models/resnet50-11ad3fa6.pth\" to /root/.cache/torch/hub/checkpoints/resnet50-11ad3fa6.pth\n",
            "100%|██████████| 97.8M/97.8M [00:01<00:00, 54.6MB/s]\n"
          ]
        }
      ]
    },
    {
      "cell_type": "markdown",
      "source": [
        "# Train"
      ],
      "metadata": {
        "id": "T8R6frevjr-2"
      }
    },
    {
      "cell_type": "code",
      "source": [
        "def train(net, partition, optimizer, criterion, args):\n",
        "    trainloader = torch.utils.data.DataLoader(partition['train'],\n",
        "                                              batch_size=args.train_batch_size,\n",
        "                                              shuffle=True, num_workers=2)\n",
        "    net.train()\n",
        "\n",
        "    correct = 0\n",
        "    total = 0\n",
        "    train_loss = 0.0\n",
        "    for i, data in enumerate(trainloader, 0):\n",
        "        optimizer.zero_grad() # [21.01.05 오류 수정] 매 Epoch 마다 .zero_grad()가 실행되는 것을 매 iteration 마다 실행되도록 수정했습니다.\n",
        "\n",
        "        # get the inputs\n",
        "        inputs, labels = data\n",
        "        # print(labels)\n",
        "        # print(inputs.size()) # => (batchsize, channel, H, W) = (16, 3, 224, 224). 즉 dataloader가 4차원 텐서 형태로 데이터를 받아놓음; (shape쓰면 안됨)\n",
        "        inputs = inputs.cuda()\n",
        "        labels = labels.cuda()\n",
        "        outputs = net(inputs)\n",
        "\n",
        "        loss = criterion(outputs, labels)\n",
        "        loss.backward()\n",
        "        optimizer.step()\n",
        "\n",
        "        train_loss += loss.item()\n",
        "        _, predicted = torch.max(outputs.data, 1)\n",
        "        total += labels.size(0)\n",
        "        correct += (predicted == labels).sum().item()\n",
        "\n",
        "    train_loss = train_loss / len(trainloader)\n",
        "    train_acc = 100 * correct / total\n",
        "    return net, train_loss, train_acc"
      ],
      "metadata": {
        "id": "NXYIbzv1jrll"
      },
      "execution_count": 5,
      "outputs": []
    },
    {
      "cell_type": "markdown",
      "metadata": {
        "id": "VS_q0YwXC4hf"
      },
      "source": [
        "# Validation"
      ]
    },
    {
      "cell_type": "code",
      "execution_count": 6,
      "metadata": {
        "id": "VVT1C04LC5yw"
      },
      "outputs": [],
      "source": [
        "def validate(net, partition, criterion, args):\n",
        "    valloader = torch.utils.data.DataLoader(partition['val'],\n",
        "                                            batch_size=args.test_batch_size,\n",
        "                                            shuffle=False, num_workers=2)\n",
        "    net.eval()\n",
        "\n",
        "    correct = 0\n",
        "    total = 0\n",
        "    val_loss = 0\n",
        "    with torch.no_grad():\n",
        "        for data in valloader:\n",
        "            images, labels = data\n",
        "            images = images.cuda()\n",
        "            labels = labels.cuda()\n",
        "            outputs = net(images)\n",
        "\n",
        "            loss = criterion(outputs, labels)\n",
        "\n",
        "            val_loss += loss.item()\n",
        "            _, predicted = torch.max(outputs.data, 1)\n",
        "            total += labels.size(0)\n",
        "            correct += (predicted == labels).sum().item()\n",
        "\n",
        "        val_loss = val_loss / len(valloader)\n",
        "        val_acc = 100 * correct / total\n",
        "    return val_loss, val_acc"
      ]
    },
    {
      "cell_type": "markdown",
      "metadata": {
        "id": "z1qxk-LBC7yl"
      },
      "source": [
        "# Test"
      ]
    },
    {
      "cell_type": "code",
      "execution_count": 7,
      "metadata": {
        "id": "S1X7QJ7bC99F"
      },
      "outputs": [],
      "source": [
        "def test(net, partition, args):\n",
        "    testloader = torch.utils.data.DataLoader(partition['test'],\n",
        "                                             batch_size=args.test_batch_size,\n",
        "                                             shuffle=False, num_workers=2)\n",
        "    net.eval()\n",
        "\n",
        "    correct = 0\n",
        "    total = 0\n",
        "    with torch.no_grad():\n",
        "        for data in testloader:\n",
        "            images, labels = data\n",
        "            images = images.cuda()\n",
        "            labels = labels.cuda()\n",
        "\n",
        "            outputs = net(images)\n",
        "            _, predicted = torch.max(outputs.data, 1)\n",
        "            total += labels.size(0)\n",
        "            correct += (predicted == labels).sum().item()\n",
        "\n",
        "        test_acc = 100 * correct / total\n",
        "    return test_acc"
      ]
    },
    {
      "cell_type": "markdown",
      "metadata": {
        "id": "5FYfQCc2DBjF"
      },
      "source": [
        "# Experiment"
      ]
    },
    {
      "cell_type": "code",
      "execution_count": 8,
      "metadata": {
        "id": "kvo2-xj3DCrP"
      },
      "outputs": [],
      "source": [
        "def experiment(partition, args):\n",
        "\n",
        "    net = ResNet\n",
        "    net.cuda()\n",
        "\n",
        "    criterion = nn.CrossEntropyLoss()\n",
        "    if args.optim == 'SGD':\n",
        "        optimizer = optim.SGD(net.parameters(), lr=args.lr, weight_decay=args.l2)\n",
        "    elif args.optim == 'RMSprop':\n",
        "        optimizer = optim.RMSprop(net.parameters(), lr=args.lr, weight_decay=args.l2)\n",
        "    elif args.optim == 'Adam':\n",
        "        optimizer = optim.Adam(net.parameters(), lr=args.lr, weight_decay=args.l2)\n",
        "    else:\n",
        "        raise ValueError('In-valid optimizer choice')\n",
        "\n",
        "    train_losses = []\n",
        "    val_losses = []\n",
        "    train_accs = []\n",
        "    val_accs = []\n",
        "\n",
        "    for epoch in range(args.epoch):  # loop over the dataset multiple times\n",
        "        ts = time.time()\n",
        "        net, train_loss, train_acc = train(net, partition, optimizer, criterion, args)\n",
        "        val_loss, val_acc = validate(net, partition, criterion, args)\n",
        "        te = time.time()\n",
        "\n",
        "        train_losses.append(train_loss)\n",
        "        val_losses.append(val_loss)\n",
        "        train_accs.append(train_acc)\n",
        "        val_accs.append(val_acc)\n",
        "\n",
        "        print('Epoch {}, Acc(train/val): {:2.2f}/{:2.2f}, Loss(train/val) {:2.2f}/{:2.2f}. Took {:2.2f} sec'.format(epoch, train_acc, val_acc, train_loss, val_loss, te-ts))\n",
        "\n",
        "    test_acc = test(net, partition, args)\n",
        "\n",
        "    result = {}\n",
        "    result['train_losses'] = train_losses\n",
        "    result['val_losses'] = val_losses\n",
        "    result['train_accs'] = train_accs\n",
        "    result['val_accs'] = val_accs\n",
        "    result['train_acc'] = train_acc\n",
        "    result['val_acc'] = val_acc\n",
        "    result['test_acc'] = test_acc\n",
        "    return vars(args), result"
      ]
    },
    {
      "cell_type": "markdown",
      "source": [
        "#Visualize"
      ],
      "metadata": {
        "id": "Px71d3sRkVxd"
      }
    },
    {
      "cell_type": "code",
      "source": [
        "import hashlib\n",
        "import json\n",
        "from os import listdir\n",
        "from os.path import isfile, join\n",
        "import pandas as pd\n",
        "\n",
        "def save_exp_result(setting, result):\n",
        "    exp_name = setting['exp_name']\n",
        "    del setting['epoch']\n",
        "    del setting['test_batch_size']\n",
        "\n",
        "    hash_key = hashlib.sha1(str(setting).encode()).hexdigest()[:6]\n",
        "    filename = './results/{}-{}.json'.format(exp_name, hash_key)\n",
        "    result.update(setting)\n",
        "    with open(filename, 'w') as f:\n",
        "        json.dump(result, f)\n",
        "\n",
        "\n",
        "def load_exp_result(exp_name):\n",
        "    dir_path = './results'\n",
        "    filenames = [f for f in listdir(dir_path) if isfile(join(dir_path, f)) if '.json' in f]\n",
        "    list_result = []\n",
        "    for filename in filenames:\n",
        "        if exp_name in filename:\n",
        "            with open(join(dir_path, filename), 'r') as infile:\n",
        "                results = json.load(infile)\n",
        "                list_result.append(results)\n",
        "    df = pd.DataFrame(list_result) # .drop(columns=[])\n",
        "    return df"
      ],
      "metadata": {
        "id": "1Px2ZZNBkXbI"
      },
      "execution_count": 9,
      "outputs": []
    },
    {
      "cell_type": "markdown",
      "source": [
        "# Structure Info"
      ],
      "metadata": {
        "id": "6m54DCly1lWO"
      }
    },
    {
      "cell_type": "code",
      "source": [
        "!pip install torchinfo\n",
        "import torchinfo\n",
        "from torchinfo import summary\n",
        "from torchinfo import summary\n",
        "summary(ResNet, input_size = (32, 3, 224, 224), col_names = [\"output_size\", \"num_params\", \"trainable\"], col_width = 15)\n"
      ],
      "metadata": {
        "colab": {
          "base_uri": "https://localhost:8080/"
        },
        "id": "FjxAb6K-1oPN",
        "outputId": "2f9c7d7e-1b4b-4ae5-bdb7-aa18e078027a"
      },
      "execution_count": 12,
      "outputs": [
        {
          "output_type": "stream",
          "name": "stdout",
          "text": [
            "Requirement already satisfied: torchinfo in /usr/local/lib/python3.10/dist-packages (1.8.0)\n"
          ]
        },
        {
          "output_type": "execute_result",
          "data": {
            "text/plain": [
              "=====================================================================================\n",
              "Layer (type:depth-idx)                   Output Shape    Param #         Trainable\n",
              "=====================================================================================\n",
              "ResNet                                   [32, 100]       --              Partial\n",
              "├─Conv2d: 1-1                            [32, 64, 112, 112] (9,408)         False\n",
              "├─BatchNorm2d: 1-2                       [32, 64, 112, 112] (128)           False\n",
              "├─ReLU: 1-3                              [32, 64, 112, 112] --              --\n",
              "├─MaxPool2d: 1-4                         [32, 64, 56, 56] --              --\n",
              "├─Sequential: 1-5                        [32, 256, 56, 56] --              False\n",
              "│    └─Bottleneck: 2-1                   [32, 256, 56, 56] --              False\n",
              "│    │    └─Conv2d: 3-1                  [32, 64, 56, 56] (4,096)         False\n",
              "│    │    └─BatchNorm2d: 3-2             [32, 64, 56, 56] (128)           False\n",
              "│    │    └─ReLU: 3-3                    [32, 64, 56, 56] --              --\n",
              "│    │    └─Conv2d: 3-4                  [32, 64, 56, 56] (36,864)        False\n",
              "│    │    └─BatchNorm2d: 3-5             [32, 64, 56, 56] (128)           False\n",
              "│    │    └─ReLU: 3-6                    [32, 64, 56, 56] --              --\n",
              "│    │    └─Conv2d: 3-7                  [32, 256, 56, 56] (16,384)        False\n",
              "│    │    └─BatchNorm2d: 3-8             [32, 256, 56, 56] (512)           False\n",
              "│    │    └─Sequential: 3-9              [32, 256, 56, 56] (16,896)        False\n",
              "│    │    └─ReLU: 3-10                   [32, 256, 56, 56] --              --\n",
              "│    └─Bottleneck: 2-2                   [32, 256, 56, 56] --              False\n",
              "│    │    └─Conv2d: 3-11                 [32, 64, 56, 56] (16,384)        False\n",
              "│    │    └─BatchNorm2d: 3-12            [32, 64, 56, 56] (128)           False\n",
              "│    │    └─ReLU: 3-13                   [32, 64, 56, 56] --              --\n",
              "│    │    └─Conv2d: 3-14                 [32, 64, 56, 56] (36,864)        False\n",
              "│    │    └─BatchNorm2d: 3-15            [32, 64, 56, 56] (128)           False\n",
              "│    │    └─ReLU: 3-16                   [32, 64, 56, 56] --              --\n",
              "│    │    └─Conv2d: 3-17                 [32, 256, 56, 56] (16,384)        False\n",
              "│    │    └─BatchNorm2d: 3-18            [32, 256, 56, 56] (512)           False\n",
              "│    │    └─ReLU: 3-19                   [32, 256, 56, 56] --              --\n",
              "│    └─Bottleneck: 2-3                   [32, 256, 56, 56] --              False\n",
              "│    │    └─Conv2d: 3-20                 [32, 64, 56, 56] (16,384)        False\n",
              "│    │    └─BatchNorm2d: 3-21            [32, 64, 56, 56] (128)           False\n",
              "│    │    └─ReLU: 3-22                   [32, 64, 56, 56] --              --\n",
              "│    │    └─Conv2d: 3-23                 [32, 64, 56, 56] (36,864)        False\n",
              "│    │    └─BatchNorm2d: 3-24            [32, 64, 56, 56] (128)           False\n",
              "│    │    └─ReLU: 3-25                   [32, 64, 56, 56] --              --\n",
              "│    │    └─Conv2d: 3-26                 [32, 256, 56, 56] (16,384)        False\n",
              "│    │    └─BatchNorm2d: 3-27            [32, 256, 56, 56] (512)           False\n",
              "│    │    └─ReLU: 3-28                   [32, 256, 56, 56] --              --\n",
              "├─Sequential: 1-6                        [32, 512, 28, 28] --              False\n",
              "│    └─Bottleneck: 2-4                   [32, 512, 28, 28] --              False\n",
              "│    │    └─Conv2d: 3-29                 [32, 128, 56, 56] (32,768)        False\n",
              "│    │    └─BatchNorm2d: 3-30            [32, 128, 56, 56] (256)           False\n",
              "│    │    └─ReLU: 3-31                   [32, 128, 56, 56] --              --\n",
              "│    │    └─Conv2d: 3-32                 [32, 128, 28, 28] (147,456)       False\n",
              "│    │    └─BatchNorm2d: 3-33            [32, 128, 28, 28] (256)           False\n",
              "│    │    └─ReLU: 3-34                   [32, 128, 28, 28] --              --\n",
              "│    │    └─Conv2d: 3-35                 [32, 512, 28, 28] (65,536)        False\n",
              "│    │    └─BatchNorm2d: 3-36            [32, 512, 28, 28] (1,024)         False\n",
              "│    │    └─Sequential: 3-37             [32, 512, 28, 28] (132,096)       False\n",
              "│    │    └─ReLU: 3-38                   [32, 512, 28, 28] --              --\n",
              "│    └─Bottleneck: 2-5                   [32, 512, 28, 28] --              False\n",
              "│    │    └─Conv2d: 3-39                 [32, 128, 28, 28] (65,536)        False\n",
              "│    │    └─BatchNorm2d: 3-40            [32, 128, 28, 28] (256)           False\n",
              "│    │    └─ReLU: 3-41                   [32, 128, 28, 28] --              --\n",
              "│    │    └─Conv2d: 3-42                 [32, 128, 28, 28] (147,456)       False\n",
              "│    │    └─BatchNorm2d: 3-43            [32, 128, 28, 28] (256)           False\n",
              "│    │    └─ReLU: 3-44                   [32, 128, 28, 28] --              --\n",
              "│    │    └─Conv2d: 3-45                 [32, 512, 28, 28] (65,536)        False\n",
              "│    │    └─BatchNorm2d: 3-46            [32, 512, 28, 28] (1,024)         False\n",
              "│    │    └─ReLU: 3-47                   [32, 512, 28, 28] --              --\n",
              "│    └─Bottleneck: 2-6                   [32, 512, 28, 28] --              False\n",
              "│    │    └─Conv2d: 3-48                 [32, 128, 28, 28] (65,536)        False\n",
              "│    │    └─BatchNorm2d: 3-49            [32, 128, 28, 28] (256)           False\n",
              "│    │    └─ReLU: 3-50                   [32, 128, 28, 28] --              --\n",
              "│    │    └─Conv2d: 3-51                 [32, 128, 28, 28] (147,456)       False\n",
              "│    │    └─BatchNorm2d: 3-52            [32, 128, 28, 28] (256)           False\n",
              "│    │    └─ReLU: 3-53                   [32, 128, 28, 28] --              --\n",
              "│    │    └─Conv2d: 3-54                 [32, 512, 28, 28] (65,536)        False\n",
              "│    │    └─BatchNorm2d: 3-55            [32, 512, 28, 28] (1,024)         False\n",
              "│    │    └─ReLU: 3-56                   [32, 512, 28, 28] --              --\n",
              "│    └─Bottleneck: 2-7                   [32, 512, 28, 28] --              False\n",
              "│    │    └─Conv2d: 3-57                 [32, 128, 28, 28] (65,536)        False\n",
              "│    │    └─BatchNorm2d: 3-58            [32, 128, 28, 28] (256)           False\n",
              "│    │    └─ReLU: 3-59                   [32, 128, 28, 28] --              --\n",
              "│    │    └─Conv2d: 3-60                 [32, 128, 28, 28] (147,456)       False\n",
              "│    │    └─BatchNorm2d: 3-61            [32, 128, 28, 28] (256)           False\n",
              "│    │    └─ReLU: 3-62                   [32, 128, 28, 28] --              --\n",
              "│    │    └─Conv2d: 3-63                 [32, 512, 28, 28] (65,536)        False\n",
              "│    │    └─BatchNorm2d: 3-64            [32, 512, 28, 28] (1,024)         False\n",
              "│    │    └─ReLU: 3-65                   [32, 512, 28, 28] --              --\n",
              "├─Sequential: 1-7                        [32, 1024, 14, 14] --              False\n",
              "│    └─Bottleneck: 2-8                   [32, 1024, 14, 14] --              False\n",
              "│    │    └─Conv2d: 3-66                 [32, 256, 28, 28] (131,072)       False\n",
              "│    │    └─BatchNorm2d: 3-67            [32, 256, 28, 28] (512)           False\n",
              "│    │    └─ReLU: 3-68                   [32, 256, 28, 28] --              --\n",
              "│    │    └─Conv2d: 3-69                 [32, 256, 14, 14] (589,824)       False\n",
              "│    │    └─BatchNorm2d: 3-70            [32, 256, 14, 14] (512)           False\n",
              "│    │    └─ReLU: 3-71                   [32, 256, 14, 14] --              --\n",
              "│    │    └─Conv2d: 3-72                 [32, 1024, 14, 14] (262,144)       False\n",
              "│    │    └─BatchNorm2d: 3-73            [32, 1024, 14, 14] (2,048)         False\n",
              "│    │    └─Sequential: 3-74             [32, 1024, 14, 14] (526,336)       False\n",
              "│    │    └─ReLU: 3-75                   [32, 1024, 14, 14] --              --\n",
              "│    └─Bottleneck: 2-9                   [32, 1024, 14, 14] --              False\n",
              "│    │    └─Conv2d: 3-76                 [32, 256, 14, 14] (262,144)       False\n",
              "│    │    └─BatchNorm2d: 3-77            [32, 256, 14, 14] (512)           False\n",
              "│    │    └─ReLU: 3-78                   [32, 256, 14, 14] --              --\n",
              "│    │    └─Conv2d: 3-79                 [32, 256, 14, 14] (589,824)       False\n",
              "│    │    └─BatchNorm2d: 3-80            [32, 256, 14, 14] (512)           False\n",
              "│    │    └─ReLU: 3-81                   [32, 256, 14, 14] --              --\n",
              "│    │    └─Conv2d: 3-82                 [32, 1024, 14, 14] (262,144)       False\n",
              "│    │    └─BatchNorm2d: 3-83            [32, 1024, 14, 14] (2,048)         False\n",
              "│    │    └─ReLU: 3-84                   [32, 1024, 14, 14] --              --\n",
              "│    └─Bottleneck: 2-10                  [32, 1024, 14, 14] --              False\n",
              "│    │    └─Conv2d: 3-85                 [32, 256, 14, 14] (262,144)       False\n",
              "│    │    └─BatchNorm2d: 3-86            [32, 256, 14, 14] (512)           False\n",
              "│    │    └─ReLU: 3-87                   [32, 256, 14, 14] --              --\n",
              "│    │    └─Conv2d: 3-88                 [32, 256, 14, 14] (589,824)       False\n",
              "│    │    └─BatchNorm2d: 3-89            [32, 256, 14, 14] (512)           False\n",
              "│    │    └─ReLU: 3-90                   [32, 256, 14, 14] --              --\n",
              "│    │    └─Conv2d: 3-91                 [32, 1024, 14, 14] (262,144)       False\n",
              "│    │    └─BatchNorm2d: 3-92            [32, 1024, 14, 14] (2,048)         False\n",
              "│    │    └─ReLU: 3-93                   [32, 1024, 14, 14] --              --\n",
              "│    └─Bottleneck: 2-11                  [32, 1024, 14, 14] --              False\n",
              "│    │    └─Conv2d: 3-94                 [32, 256, 14, 14] (262,144)       False\n",
              "│    │    └─BatchNorm2d: 3-95            [32, 256, 14, 14] (512)           False\n",
              "│    │    └─ReLU: 3-96                   [32, 256, 14, 14] --              --\n",
              "│    │    └─Conv2d: 3-97                 [32, 256, 14, 14] (589,824)       False\n",
              "│    │    └─BatchNorm2d: 3-98            [32, 256, 14, 14] (512)           False\n",
              "│    │    └─ReLU: 3-99                   [32, 256, 14, 14] --              --\n",
              "│    │    └─Conv2d: 3-100                [32, 1024, 14, 14] (262,144)       False\n",
              "│    │    └─BatchNorm2d: 3-101           [32, 1024, 14, 14] (2,048)         False\n",
              "│    │    └─ReLU: 3-102                  [32, 1024, 14, 14] --              --\n",
              "│    └─Bottleneck: 2-12                  [32, 1024, 14, 14] --              False\n",
              "│    │    └─Conv2d: 3-103                [32, 256, 14, 14] (262,144)       False\n",
              "│    │    └─BatchNorm2d: 3-104           [32, 256, 14, 14] (512)           False\n",
              "│    │    └─ReLU: 3-105                  [32, 256, 14, 14] --              --\n",
              "│    │    └─Conv2d: 3-106                [32, 256, 14, 14] (589,824)       False\n",
              "│    │    └─BatchNorm2d: 3-107           [32, 256, 14, 14] (512)           False\n",
              "│    │    └─ReLU: 3-108                  [32, 256, 14, 14] --              --\n",
              "│    │    └─Conv2d: 3-109                [32, 1024, 14, 14] (262,144)       False\n",
              "│    │    └─BatchNorm2d: 3-110           [32, 1024, 14, 14] (2,048)         False\n",
              "│    │    └─ReLU: 3-111                  [32, 1024, 14, 14] --              --\n",
              "│    └─Bottleneck: 2-13                  [32, 1024, 14, 14] --              False\n",
              "│    │    └─Conv2d: 3-112                [32, 256, 14, 14] (262,144)       False\n",
              "│    │    └─BatchNorm2d: 3-113           [32, 256, 14, 14] (512)           False\n",
              "│    │    └─ReLU: 3-114                  [32, 256, 14, 14] --              --\n",
              "│    │    └─Conv2d: 3-115                [32, 256, 14, 14] (589,824)       False\n",
              "│    │    └─BatchNorm2d: 3-116           [32, 256, 14, 14] (512)           False\n",
              "│    │    └─ReLU: 3-117                  [32, 256, 14, 14] --              --\n",
              "│    │    └─Conv2d: 3-118                [32, 1024, 14, 14] (262,144)       False\n",
              "│    │    └─BatchNorm2d: 3-119           [32, 1024, 14, 14] (2,048)         False\n",
              "│    │    └─ReLU: 3-120                  [32, 1024, 14, 14] --              --\n",
              "├─Sequential: 1-8                        [32, 2048, 7, 7] --              False\n",
              "│    └─Bottleneck: 2-14                  [32, 2048, 7, 7] --              False\n",
              "│    │    └─Conv2d: 3-121                [32, 512, 14, 14] (524,288)       False\n",
              "│    │    └─BatchNorm2d: 3-122           [32, 512, 14, 14] (1,024)         False\n",
              "│    │    └─ReLU: 3-123                  [32, 512, 14, 14] --              --\n",
              "│    │    └─Conv2d: 3-124                [32, 512, 7, 7] (2,359,296)     False\n",
              "│    │    └─BatchNorm2d: 3-125           [32, 512, 7, 7] (1,024)         False\n",
              "│    │    └─ReLU: 3-126                  [32, 512, 7, 7] --              --\n",
              "│    │    └─Conv2d: 3-127                [32, 2048, 7, 7] (1,048,576)     False\n",
              "│    │    └─BatchNorm2d: 3-128           [32, 2048, 7, 7] (4,096)         False\n",
              "│    │    └─Sequential: 3-129            [32, 2048, 7, 7] (2,101,248)     False\n",
              "│    │    └─ReLU: 3-130                  [32, 2048, 7, 7] --              --\n",
              "│    └─Bottleneck: 2-15                  [32, 2048, 7, 7] --              False\n",
              "│    │    └─Conv2d: 3-131                [32, 512, 7, 7] (1,048,576)     False\n",
              "│    │    └─BatchNorm2d: 3-132           [32, 512, 7, 7] (1,024)         False\n",
              "│    │    └─ReLU: 3-133                  [32, 512, 7, 7] --              --\n",
              "│    │    └─Conv2d: 3-134                [32, 512, 7, 7] (2,359,296)     False\n",
              "│    │    └─BatchNorm2d: 3-135           [32, 512, 7, 7] (1,024)         False\n",
              "│    │    └─ReLU: 3-136                  [32, 512, 7, 7] --              --\n",
              "│    │    └─Conv2d: 3-137                [32, 2048, 7, 7] (1,048,576)     False\n",
              "│    │    └─BatchNorm2d: 3-138           [32, 2048, 7, 7] (4,096)         False\n",
              "│    │    └─ReLU: 3-139                  [32, 2048, 7, 7] --              --\n",
              "│    └─Bottleneck: 2-16                  [32, 2048, 7, 7] --              False\n",
              "│    │    └─Conv2d: 3-140                [32, 512, 7, 7] (1,048,576)     False\n",
              "│    │    └─BatchNorm2d: 3-141           [32, 512, 7, 7] (1,024)         False\n",
              "│    │    └─ReLU: 3-142                  [32, 512, 7, 7] --              --\n",
              "│    │    └─Conv2d: 3-143                [32, 512, 7, 7] (2,359,296)     False\n",
              "│    │    └─BatchNorm2d: 3-144           [32, 512, 7, 7] (1,024)         False\n",
              "│    │    └─ReLU: 3-145                  [32, 512, 7, 7] --              --\n",
              "│    │    └─Conv2d: 3-146                [32, 2048, 7, 7] (1,048,576)     False\n",
              "│    │    └─BatchNorm2d: 3-147           [32, 2048, 7, 7] (4,096)         False\n",
              "│    │    └─ReLU: 3-148                  [32, 2048, 7, 7] --              --\n",
              "├─AdaptiveAvgPool2d: 1-9                 [32, 2048, 1, 1] --              --\n",
              "├─Sequential: 1-10                       [32, 100]       --              Partial\n",
              "│    └─Linear: 2-17                      [32, 1000]      (2,049,000)     False\n",
              "│    └─Sequential: 2-18                  [32, 100]       --              True\n",
              "│    │    └─ReLU: 3-149                  [32, 1000]      --              --\n",
              "│    │    └─Dropout: 3-150               [32, 1000]      --              --\n",
              "│    │    └─Linear: 3-151                [32, 100]       100,100         True\n",
              "=====================================================================================\n",
              "Total params: 25,657,132\n",
              "Trainable params: 100,100\n",
              "Non-trainable params: 25,557,032\n",
              "Total mult-adds (G): 130.86\n",
              "=====================================================================================\n",
              "Input size (MB): 19.27\n",
              "Forward/backward pass size (MB): 5690.64\n",
              "Params size (MB): 102.63\n",
              "Estimated Total Size (MB): 5812.54\n",
              "====================================================================================="
            ]
          },
          "metadata": {},
          "execution_count": 12
        }
      ]
    },
    {
      "cell_type": "markdown",
      "source": [
        "# Execute"
      ],
      "metadata": {
        "id": "ltpQzRALkZJH"
      }
    },
    {
      "cell_type": "code",
      "source": [
        "# ====== Random Seed Initialization ====== #\n",
        "seed = 123\n",
        "np.random.seed(seed)\n",
        "torch.manual_seed(seed)\n",
        "\n",
        "parser = argparse.ArgumentParser()\n",
        "args = parser.parse_args(\"\")\n",
        "args.exp_name = \"exp2\"\n",
        "\n",
        "# ====== Model Capacity ====== #\n",
        "args.out_dim = 100\n",
        "args.hid_dim = 1000\n",
        "\n",
        "# ====== Regularization ======= #\n",
        "args.l2 = 0.001\n",
        "args.use_bn = True\n",
        "args.dropout = 0.5\n",
        "\n",
        "# ====== Optimizer & Training ====== #\n",
        "args.optim = 'Adam' #'RMSprop' #SGD, RMSprop, ADAM...\n",
        "args.lr = 0.005\n",
        "args.epoch = 15\n",
        "\n",
        "args.train_batch_size = 32\n",
        "args.test_batch_size = 32\n",
        "\n",
        "# ====== Experiment Variable ====== #\n",
        "name_var1 = 'lr'\n",
        "name_var2 = 'optim'\n",
        "list_var1 = [0.0001, 0.0005, 0.001]\n",
        "list_var2 = ['Adam']\n",
        "\n",
        "\n",
        "for var1 in list_var1:\n",
        "    for var2 in list_var2:\n",
        "        setattr(args, name_var1, var1)\n",
        "        setattr(args, name_var2, var2)\n",
        "        print(args)\n",
        "\n",
        "        setting, result = experiment(partition, deepcopy(args))\n",
        "        save_exp_result(setting, result)\n"
      ],
      "metadata": {
        "id": "gAf6Xt-XkYfY",
        "outputId": "b974fcfd-b549-41d0-a7ea-b285972eeab4",
        "colab": {
          "base_uri": "https://localhost:8080/"
        }
      },
      "execution_count": null,
      "outputs": [
        {
          "output_type": "stream",
          "name": "stdout",
          "text": [
            "Namespace(exp_name='exp2', out_dim=100, hid_dim=1000, l2=0.001, use_bn=True, dropout=0.5, optim='Adam', lr=0.0001, epoch=15, train_batch_size=32, test_batch_size=32)\n",
            "Epoch 0, Acc(train/val): 88.16/89.80, Loss(train/val) 0.51/0.39. Took 50.11 sec\n",
            "Epoch 1, Acc(train/val): 87.87/91.20, Loss(train/val) 0.52/0.39. Took 50.51 sec\n"
          ]
        }
      ]
    },
    {
      "cell_type": "code",
      "source": [
        "def plot_acc(var1, var2, df):\n",
        "\n",
        "    fig, ax = plt.subplots(1, 3)\n",
        "    fig.set_size_inches(15, 6)\n",
        "    sns.set_style(\"darkgrid\", {\"axes.facecolor\": \".9\"})\n",
        "\n",
        "    sns.barplot(x=var1, y='train_acc', hue=var2, data=df, ax=ax[0])\n",
        "    sns.barplot(x=var1, y='val_acc', hue=var2, data=df, ax=ax[1])\n",
        "    sns.barplot(x=var1, y='test_acc', hue=var2, data=df, ax=ax[2])\n",
        "\n",
        "    ax[0].set_title('Train Accuracy')\n",
        "    ax[1].set_title('Validation Accuracy')\n",
        "    ax[2].set_title('Test Accuracy')\n",
        "\n",
        "\n",
        "def plot_loss_variation(var1, var2, df, **kwargs):\n",
        "\n",
        "    list_v1 = df[var1].unique()\n",
        "    list_v2 = df[var2].unique()\n",
        "    list_data = []\n",
        "\n",
        "    for value1 in list_v1:\n",
        "        for value2 in list_v2:\n",
        "            row = df.loc[df[var1]==value1]\n",
        "            row = row.loc[df[var2]==value2]\n",
        "\n",
        "            train_losses = list(row.train_losses)[0]\n",
        "            val_losses = list(row.val_losses)[0]\n",
        "\n",
        "            for epoch, train_loss in enumerate(train_losses):\n",
        "                list_data.append({'type':'train', 'loss':train_loss, 'epoch':epoch, var1:value1, var2:value2})\n",
        "            for epoch, val_loss in enumerate(val_losses):\n",
        "                list_data.append({'type':'val', 'loss':val_loss, 'epoch':epoch, var1:value1, var2:value2})\n",
        "\n",
        "    df = pd.DataFrame(list_data)\n",
        "    g = sns.FacetGrid(df, row=var2, col=var1, hue='type', **kwargs)\n",
        "    g = g.map(plt.plot, 'epoch', 'loss', marker='.')\n",
        "    g.add_legend()\n",
        "    g.fig.suptitle('Train loss vs Val loss')\n",
        "    plt.subplots_adjust(top=0.83) # 만약 Title이 그래프랑 겹친다면 top 값을 조정해주면 됩니다! 함수 인자로 받으면 그래프마다 조절할 수 있겠죠?\n",
        "\n",
        "\n",
        "def plot_acc_variation(var1, var2, df, **kwargs):\n",
        "    list_v1 = df[var1].unique()\n",
        "    list_v2 = df[var2].unique()\n",
        "    list_data = []\n",
        "\n",
        "    for value1 in list_v1:\n",
        "        for value2 in list_v2:\n",
        "            row = df.loc[df[var1]==value1]\n",
        "            row = row.loc[df[var2]==value2]\n",
        "\n",
        "            train_accs = list(row.train_accs)[0]\n",
        "            val_accs = list(row.val_accs)[0]\n",
        "            test_acc = list(row.test_acc)[0]\n",
        "\n",
        "            for epoch, train_acc in enumerate(train_accs):\n",
        "                list_data.append({'type':'train', 'Acc':train_acc, 'test_acc':test_acc, 'epoch':epoch, var1:value1, var2:value2})\n",
        "            for epoch, val_acc in enumerate(val_accs):\n",
        "                list_data.append({'type':'val', 'Acc':val_acc, 'test_acc':test_acc, 'epoch':epoch, var1:value1, var2:value2})\n",
        "\n",
        "    df = pd.DataFrame(list_data)\n",
        "    g = sns.FacetGrid(df, row=var2, col=var1, hue='type', **kwargs)\n",
        "    g = g.map(plt.plot, 'epoch', 'Acc', marker='.')\n",
        "\n",
        "    def show_acc(x, y, metric, **kwargs):\n",
        "        plt.scatter(x, y, alpha=0.3, s=1)\n",
        "        metric = \"Test Acc: {:1.3f}\".format(list(metric.values)[0])\n",
        "        plt.text(0.05, 0.95, metric,  horizontalalignment='left', verticalalignment='center', transform=plt.gca().transAxes, bbox=dict(facecolor='yellow', alpha=0.5, boxstyle=\"round,pad=0.1\"))\n",
        "    g = g.map(show_acc, 'epoch', 'Acc', 'test_acc')\n",
        "\n",
        "    g.add_legend()\n",
        "    g.fig.suptitle('Train Accuracy vs Val Accuracy')\n",
        "    plt.subplots_adjust(top=0.83)"
      ],
      "metadata": {
        "id": "Nc-iPCzUmYk-"
      },
      "execution_count": null,
      "outputs": []
    },
    {
      "cell_type": "code",
      "source": [
        "var1 = 'lr'\n",
        "var2 = 'optim'\n",
        "df = load_exp_result('exp2')\n",
        "\n",
        "plot_acc(var1, var2, df)\n",
        "plot_loss_variation(var1, var2, df, sharey=False) #sharey를 True로 하면 모둔 subplot의 y축의 스케일이 같아집니다.\n",
        "plot_acc_variation(var1, var2, df, margin_titles=True, sharey=True) #margin_titles를 True로 하면 그래프의 가장자리에 var1과 var2 값이 표시되고 False로 하면 각 subplot 위에 표시됩니다."
      ],
      "metadata": {
        "id": "9T9quemJmdZ0"
      },
      "execution_count": null,
      "outputs": []
    }
  ]
}